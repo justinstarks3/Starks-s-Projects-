{
 "cells": [
  {
   "cell_type": "markdown",
   "metadata": {},
   "source": [
    "# STAT207 Mini-Project #1 - How does the Genre impact the relationship between sales and review scores?\n",
    "\n",
    "\n",
    "YOUR NAME"
   ]
  },
  {
   "cell_type": "markdown",
   "metadata": {},
   "source": [
    "**Delete this code block before submitting**\n",
    "\n",
    "You should delete and add cells as you see fit.\n",
    "\n",
    "Don't forget to put written text in **markdown** cells. To change a cell from a <u>code block</u> to a <u>markdown cell</u>:\n",
    "* Click on the cell you'd like to modify.\n",
    "* Go to 'Cell' at the top of the page.\n",
    "* Go to 'Cell Type' in the drop down menu and click on either 'Code' or 'Markdown'.\n"
   ]
  },
  {
   "cell_type": "code",
   "execution_count": 94,
   "metadata": {},
   "outputs": [],
   "source": [
    "#Imports here\n",
    "import pandas as pd \n",
    "import seaborn as sns \n",
    "import matplotlib.pyplot as plt\n",
    "import numpy as np\n",
    "import statsmodels.formula.api as smf\n",
    "from sklearn.linear_model import LinearRegression\n",
    "from sklearn.metrics import r2_score"
   ]
  },
  {
   "cell_type": "markdown",
   "metadata": {},
   "source": [
    "## 1. Introduction"
   ]
  },
  {
   "cell_type": "markdown",
   "metadata": {},
   "source": [
    "This dataset was found by Dr.Joe Cox, a Faculty of Business & Law, School of Accounting, Economics and Finance at the University of Portsmouth. The following dataset has data on thousands of video games between 2004 and 2010. There are various observations including genre, sales, handheld, publishers, platform, and various other observations. In this report, we are going to analyze how does the nature of the relationship between review score and sales change for different genres in this dataset. My motivation for using these variables is to analyze what genres have the best relationship with review scores and sales. Specific publishers could use these finds to determine what games they make or why their games might not produce the reviews and sales they want. "
   ]
  },
  {
   "cell_type": "markdown",
   "metadata": {},
   "source": [
    "## 2. Dataset Discussion"
   ]
  },
  {
   "cell_type": "code",
   "execution_count": 95,
   "metadata": {},
   "outputs": [
    {
     "data": {
      "text/html": [
       "<div>\n",
       "<style scoped>\n",
       "    .dataframe tbody tr th:only-of-type {\n",
       "        vertical-align: middle;\n",
       "    }\n",
       "\n",
       "    .dataframe tbody tr th {\n",
       "        vertical-align: top;\n",
       "    }\n",
       "\n",
       "    .dataframe thead th {\n",
       "        text-align: right;\n",
       "    }\n",
       "</style>\n",
       "<table border=\"1\" class=\"dataframe\">\n",
       "  <thead>\n",
       "    <tr style=\"text-align: right;\">\n",
       "      <th></th>\n",
       "      <th>Title</th>\n",
       "      <th>Features.Handheld?</th>\n",
       "      <th>Features.Max Players</th>\n",
       "      <th>Features.Multiplatform?</th>\n",
       "      <th>Features.Online?</th>\n",
       "      <th>Metadata.Genres</th>\n",
       "      <th>Metadata.Licensed?</th>\n",
       "      <th>Metadata.Publishers</th>\n",
       "      <th>Metadata.Sequel?</th>\n",
       "      <th>Metrics.Review Score</th>\n",
       "      <th>...</th>\n",
       "      <th>Length.Main + Extras.Average</th>\n",
       "      <th>Length.Main + Extras.Leisure</th>\n",
       "      <th>Length.Main + Extras.Median</th>\n",
       "      <th>Length.Main + Extras.Polled</th>\n",
       "      <th>Length.Main + Extras.Rushed</th>\n",
       "      <th>Length.Main Story.Average</th>\n",
       "      <th>Length.Main Story.Leisure</th>\n",
       "      <th>Length.Main Story.Median</th>\n",
       "      <th>Length.Main Story.Polled</th>\n",
       "      <th>Length.Main Story.Rushed</th>\n",
       "    </tr>\n",
       "  </thead>\n",
       "  <tbody>\n",
       "    <tr>\n",
       "      <th>0</th>\n",
       "      <td>Super Mario 64 DS</td>\n",
       "      <td>True</td>\n",
       "      <td>1</td>\n",
       "      <td>True</td>\n",
       "      <td>True</td>\n",
       "      <td>Action</td>\n",
       "      <td>True</td>\n",
       "      <td>Nintendo</td>\n",
       "      <td>True</td>\n",
       "      <td>85</td>\n",
       "      <td>...</td>\n",
       "      <td>24.916667</td>\n",
       "      <td>29.966667</td>\n",
       "      <td>25.000000</td>\n",
       "      <td>16</td>\n",
       "      <td>18.333333</td>\n",
       "      <td>14.333333</td>\n",
       "      <td>18.316667</td>\n",
       "      <td>14.500000</td>\n",
       "      <td>21</td>\n",
       "      <td>9.700000</td>\n",
       "    </tr>\n",
       "    <tr>\n",
       "      <th>1</th>\n",
       "      <td>Lumines: Puzzle Fusion</td>\n",
       "      <td>True</td>\n",
       "      <td>1</td>\n",
       "      <td>True</td>\n",
       "      <td>True</td>\n",
       "      <td>Strategy</td>\n",
       "      <td>True</td>\n",
       "      <td>Ubisoft</td>\n",
       "      <td>True</td>\n",
       "      <td>89</td>\n",
       "      <td>...</td>\n",
       "      <td>9.750000</td>\n",
       "      <td>9.866667</td>\n",
       "      <td>9.750000</td>\n",
       "      <td>2</td>\n",
       "      <td>9.616667</td>\n",
       "      <td>10.333333</td>\n",
       "      <td>11.083333</td>\n",
       "      <td>10.000000</td>\n",
       "      <td>3</td>\n",
       "      <td>9.583333</td>\n",
       "    </tr>\n",
       "    <tr>\n",
       "      <th>2</th>\n",
       "      <td>WarioWare Touched!</td>\n",
       "      <td>True</td>\n",
       "      <td>2</td>\n",
       "      <td>True</td>\n",
       "      <td>True</td>\n",
       "      <td>Action,Racing / Driving,Sports</td>\n",
       "      <td>True</td>\n",
       "      <td>Nintendo</td>\n",
       "      <td>True</td>\n",
       "      <td>81</td>\n",
       "      <td>...</td>\n",
       "      <td>3.850000</td>\n",
       "      <td>5.666667</td>\n",
       "      <td>3.333333</td>\n",
       "      <td>11</td>\n",
       "      <td>2.783333</td>\n",
       "      <td>1.916667</td>\n",
       "      <td>2.933333</td>\n",
       "      <td>1.833333</td>\n",
       "      <td>30</td>\n",
       "      <td>1.433333</td>\n",
       "    </tr>\n",
       "    <tr>\n",
       "      <th>3</th>\n",
       "      <td>Hot Shots Golf: Open Tee</td>\n",
       "      <td>True</td>\n",
       "      <td>1</td>\n",
       "      <td>True</td>\n",
       "      <td>True</td>\n",
       "      <td>Sports</td>\n",
       "      <td>True</td>\n",
       "      <td>Sony</td>\n",
       "      <td>True</td>\n",
       "      <td>81</td>\n",
       "      <td>...</td>\n",
       "      <td>0.000000</td>\n",
       "      <td>0.000000</td>\n",
       "      <td>0.000000</td>\n",
       "      <td>0</td>\n",
       "      <td>0.000000</td>\n",
       "      <td>0.000000</td>\n",
       "      <td>0.000000</td>\n",
       "      <td>0.000000</td>\n",
       "      <td>0</td>\n",
       "      <td>0.000000</td>\n",
       "    </tr>\n",
       "    <tr>\n",
       "      <th>4</th>\n",
       "      <td>Spider-Man 2</td>\n",
       "      <td>True</td>\n",
       "      <td>1</td>\n",
       "      <td>True</td>\n",
       "      <td>True</td>\n",
       "      <td>Action</td>\n",
       "      <td>True</td>\n",
       "      <td>Activision</td>\n",
       "      <td>True</td>\n",
       "      <td>61</td>\n",
       "      <td>...</td>\n",
       "      <td>12.766667</td>\n",
       "      <td>17.316667</td>\n",
       "      <td>12.500000</td>\n",
       "      <td>12</td>\n",
       "      <td>10.483333</td>\n",
       "      <td>8.350000</td>\n",
       "      <td>11.083333</td>\n",
       "      <td>8.000000</td>\n",
       "      <td>23</td>\n",
       "      <td>5.333333</td>\n",
       "    </tr>\n",
       "  </tbody>\n",
       "</table>\n",
       "<p>5 rows × 36 columns</p>\n",
       "</div>"
      ],
      "text/plain": [
       "                      Title  Features.Handheld?  Features.Max Players  \\\n",
       "0         Super Mario 64 DS                True                     1   \n",
       "1    Lumines: Puzzle Fusion                True                     1   \n",
       "2        WarioWare Touched!                True                     2   \n",
       "3  Hot Shots Golf: Open Tee                True                     1   \n",
       "4              Spider-Man 2                True                     1   \n",
       "\n",
       "   Features.Multiplatform?  Features.Online?                 Metadata.Genres  \\\n",
       "0                     True              True                          Action   \n",
       "1                     True              True                        Strategy   \n",
       "2                     True              True  Action,Racing / Driving,Sports   \n",
       "3                     True              True                          Sports   \n",
       "4                     True              True                          Action   \n",
       "\n",
       "   Metadata.Licensed? Metadata.Publishers  Metadata.Sequel?  \\\n",
       "0                True            Nintendo              True   \n",
       "1                True             Ubisoft              True   \n",
       "2                True            Nintendo              True   \n",
       "3                True                Sony              True   \n",
       "4                True          Activision              True   \n",
       "\n",
       "   Metrics.Review Score  ...  Length.Main + Extras.Average  \\\n",
       "0                    85  ...                     24.916667   \n",
       "1                    89  ...                      9.750000   \n",
       "2                    81  ...                      3.850000   \n",
       "3                    81  ...                      0.000000   \n",
       "4                    61  ...                     12.766667   \n",
       "\n",
       "   Length.Main + Extras.Leisure Length.Main + Extras.Median  \\\n",
       "0                     29.966667                   25.000000   \n",
       "1                      9.866667                    9.750000   \n",
       "2                      5.666667                    3.333333   \n",
       "3                      0.000000                    0.000000   \n",
       "4                     17.316667                   12.500000   \n",
       "\n",
       "  Length.Main + Extras.Polled  Length.Main + Extras.Rushed  \\\n",
       "0                          16                    18.333333   \n",
       "1                           2                     9.616667   \n",
       "2                          11                     2.783333   \n",
       "3                           0                     0.000000   \n",
       "4                          12                    10.483333   \n",
       "\n",
       "   Length.Main Story.Average  Length.Main Story.Leisure  \\\n",
       "0                  14.333333                  18.316667   \n",
       "1                  10.333333                  11.083333   \n",
       "2                   1.916667                   2.933333   \n",
       "3                   0.000000                   0.000000   \n",
       "4                   8.350000                  11.083333   \n",
       "\n",
       "   Length.Main Story.Median  Length.Main Story.Polled  \\\n",
       "0                 14.500000                        21   \n",
       "1                 10.000000                         3   \n",
       "2                  1.833333                        30   \n",
       "3                  0.000000                         0   \n",
       "4                  8.000000                        23   \n",
       "\n",
       "   Length.Main Story.Rushed  \n",
       "0                  9.700000  \n",
       "1                  9.583333  \n",
       "2                  1.433333  \n",
       "3                  0.000000  \n",
       "4                  5.333333  \n",
       "\n",
       "[5 rows x 36 columns]"
      ]
     },
     "execution_count": 95,
     "metadata": {},
     "output_type": "execute_result"
    }
   ],
   "source": [
    "df = pd.read_csv(\"video_games.csv\")\n",
    "df.head()"
   ]
  },
  {
   "cell_type": "code",
   "execution_count": 107,
   "metadata": {},
   "outputs": [
    {
     "data": {
      "text/plain": [
       "1212"
      ]
     },
     "execution_count": 107,
     "metadata": {},
     "output_type": "execute_result"
    }
   ],
   "source": [
    "df.shape[0]"
   ]
  },
  {
   "cell_type": "markdown",
   "metadata": {},
   "source": [
    "This dataset was downloaded from Professor Ellison's Canvas page, and she downloaded this file from https://corgis-edu.github.io/corgis/csv/video_games/ on 9/8/2023. I downloaded this file on 2/7/2024. Each row in this dataset represents a different video game and was collected by analyzing various video games from 2004 to 2010. This dataset is a sample, finding data for all video games from 2004 to 2010 would be extremely difficult considering all different publishers, genres, platforms, consoles, and games in certain reasons. The impact of these actions that a researcher might take depends on the research questions. Specifically, for my research question a sample instead of a population can be more efficient. Additionally, the researcher should be cautious about generalizing findings from the sample dataset to the broader population of video games, as the sample may not be fully representative."
   ]
  },
  {
   "cell_type": "markdown",
   "metadata": {},
   "source": [
    "## 3. Dataset Cleaning"
   ]
  },
  {
   "cell_type": "markdown",
   "metadata": {},
   "source": []
  },
  {
   "cell_type": "code",
   "execution_count": 108,
   "metadata": {},
   "outputs": [
    {
     "data": {
      "text/html": [
       "<div>\n",
       "<style scoped>\n",
       "    .dataframe tbody tr th:only-of-type {\n",
       "        vertical-align: middle;\n",
       "    }\n",
       "\n",
       "    .dataframe tbody tr th {\n",
       "        vertical-align: top;\n",
       "    }\n",
       "\n",
       "    .dataframe thead th {\n",
       "        text-align: right;\n",
       "    }\n",
       "</style>\n",
       "<table border=\"1\" class=\"dataframe\">\n",
       "  <thead>\n",
       "    <tr style=\"text-align: right;\">\n",
       "      <th></th>\n",
       "      <th>Metadata.Genres</th>\n",
       "      <th>Metrics.Review Score</th>\n",
       "      <th>Metrics.Sales</th>\n",
       "    </tr>\n",
       "  </thead>\n",
       "  <tbody>\n",
       "    <tr>\n",
       "      <th>0</th>\n",
       "      <td>Action</td>\n",
       "      <td>85</td>\n",
       "      <td>4.69</td>\n",
       "    </tr>\n",
       "    <tr>\n",
       "      <th>1</th>\n",
       "      <td>Strategy</td>\n",
       "      <td>89</td>\n",
       "      <td>0.56</td>\n",
       "    </tr>\n",
       "    <tr>\n",
       "      <th>2</th>\n",
       "      <td>Action,Racing / Driving,Sports</td>\n",
       "      <td>81</td>\n",
       "      <td>0.54</td>\n",
       "    </tr>\n",
       "    <tr>\n",
       "      <th>3</th>\n",
       "      <td>Sports</td>\n",
       "      <td>81</td>\n",
       "      <td>0.49</td>\n",
       "    </tr>\n",
       "    <tr>\n",
       "      <th>4</th>\n",
       "      <td>Action</td>\n",
       "      <td>61</td>\n",
       "      <td>0.45</td>\n",
       "    </tr>\n",
       "    <tr>\n",
       "      <th>...</th>\n",
       "      <td>...</td>\n",
       "      <td>...</td>\n",
       "      <td>...</td>\n",
       "    </tr>\n",
       "    <tr>\n",
       "      <th>1207</th>\n",
       "      <td>Adventure</td>\n",
       "      <td>71</td>\n",
       "      <td>0.03</td>\n",
       "    </tr>\n",
       "    <tr>\n",
       "      <th>1208</th>\n",
       "      <td>Action,Adventure</td>\n",
       "      <td>62</td>\n",
       "      <td>0.03</td>\n",
       "    </tr>\n",
       "    <tr>\n",
       "      <th>1209</th>\n",
       "      <td>Action,Strategy</td>\n",
       "      <td>51</td>\n",
       "      <td>0.03</td>\n",
       "    </tr>\n",
       "    <tr>\n",
       "      <th>1210</th>\n",
       "      <td>Adventure</td>\n",
       "      <td>64</td>\n",
       "      <td>0.02</td>\n",
       "    </tr>\n",
       "    <tr>\n",
       "      <th>1211</th>\n",
       "      <td>Action</td>\n",
       "      <td>39</td>\n",
       "      <td>0.02</td>\n",
       "    </tr>\n",
       "  </tbody>\n",
       "</table>\n",
       "<p>1212 rows × 3 columns</p>\n",
       "</div>"
      ],
      "text/plain": [
       "                     Metadata.Genres  Metrics.Review Score  Metrics.Sales\n",
       "0                             Action                    85           4.69\n",
       "1                           Strategy                    89           0.56\n",
       "2     Action,Racing / Driving,Sports                    81           0.54\n",
       "3                             Sports                    81           0.49\n",
       "4                             Action                    61           0.45\n",
       "...                              ...                   ...            ...\n",
       "1207                       Adventure                    71           0.03\n",
       "1208                Action,Adventure                    62           0.03\n",
       "1209                 Action,Strategy                    51           0.03\n",
       "1210                       Adventure                    64           0.02\n",
       "1211                          Action                    39           0.02\n",
       "\n",
       "[1212 rows x 3 columns]"
      ]
     },
     "execution_count": 108,
     "metadata": {},
     "output_type": "execute_result"
    }
   ],
   "source": [
    "df1 = df[[\"Metadata.Genres\", \"Metrics.Review Score\" , \"Metrics.Sales\"]]\n",
    "df1"
   ]
  },
  {
   "cell_type": "code",
   "execution_count": 172,
   "metadata": {},
   "outputs": [
    {
     "data": {
      "text/html": [
       "<div>\n",
       "<style scoped>\n",
       "    .dataframe tbody tr th:only-of-type {\n",
       "        vertical-align: middle;\n",
       "    }\n",
       "\n",
       "    .dataframe tbody tr th {\n",
       "        vertical-align: top;\n",
       "    }\n",
       "\n",
       "    .dataframe thead th {\n",
       "        text-align: right;\n",
       "    }\n",
       "</style>\n",
       "<table border=\"1\" class=\"dataframe\">\n",
       "  <thead>\n",
       "    <tr style=\"text-align: right;\">\n",
       "      <th></th>\n",
       "      <th>Genres</th>\n",
       "      <th>Review_Score</th>\n",
       "      <th>Sales</th>\n",
       "    </tr>\n",
       "  </thead>\n",
       "  <tbody>\n",
       "    <tr>\n",
       "      <th>0</th>\n",
       "      <td>Action</td>\n",
       "      <td>85</td>\n",
       "      <td>4.69</td>\n",
       "    </tr>\n",
       "    <tr>\n",
       "      <th>3</th>\n",
       "      <td>Sports</td>\n",
       "      <td>81</td>\n",
       "      <td>0.49</td>\n",
       "    </tr>\n",
       "    <tr>\n",
       "      <th>4</th>\n",
       "      <td>Action</td>\n",
       "      <td>61</td>\n",
       "      <td>0.45</td>\n",
       "    </tr>\n",
       "    <tr>\n",
       "      <th>8</th>\n",
       "      <td>Sports</td>\n",
       "      <td>68</td>\n",
       "      <td>0.25</td>\n",
       "    </tr>\n",
       "    <tr>\n",
       "      <th>13</th>\n",
       "      <td>Action</td>\n",
       "      <td>74</td>\n",
       "      <td>0.14</td>\n",
       "    </tr>\n",
       "    <tr>\n",
       "      <th>...</th>\n",
       "      <td>...</td>\n",
       "      <td>...</td>\n",
       "      <td>...</td>\n",
       "    </tr>\n",
       "    <tr>\n",
       "      <th>1205</th>\n",
       "      <td>Action</td>\n",
       "      <td>70</td>\n",
       "      <td>0.03</td>\n",
       "    </tr>\n",
       "    <tr>\n",
       "      <th>1206</th>\n",
       "      <td>Role-Playing (RPG)</td>\n",
       "      <td>67</td>\n",
       "      <td>0.03</td>\n",
       "    </tr>\n",
       "    <tr>\n",
       "      <th>1207</th>\n",
       "      <td>Adventure</td>\n",
       "      <td>71</td>\n",
       "      <td>0.03</td>\n",
       "    </tr>\n",
       "    <tr>\n",
       "      <th>1210</th>\n",
       "      <td>Adventure</td>\n",
       "      <td>64</td>\n",
       "      <td>0.02</td>\n",
       "    </tr>\n",
       "    <tr>\n",
       "      <th>1211</th>\n",
       "      <td>Action</td>\n",
       "      <td>39</td>\n",
       "      <td>0.02</td>\n",
       "    </tr>\n",
       "  </tbody>\n",
       "</table>\n",
       "<p>715 rows × 3 columns</p>\n",
       "</div>"
      ],
      "text/plain": [
       "                  Genres  Review_Score  Sales\n",
       "0                 Action            85   4.69\n",
       "3                 Sports            81   0.49\n",
       "4                 Action            61   0.45\n",
       "8                 Sports            68   0.25\n",
       "13                Action            74   0.14\n",
       "...                  ...           ...    ...\n",
       "1205              Action            70   0.03\n",
       "1206  Role-Playing (RPG)            67   0.03\n",
       "1207           Adventure            71   0.03\n",
       "1210           Adventure            64   0.02\n",
       "1211              Action            39   0.02\n",
       "\n",
       "[715 rows x 3 columns]"
      ]
     },
     "execution_count": 172,
     "metadata": {},
     "output_type": "execute_result"
    }
   ],
   "source": [
    "df2 = df1.rename(columns={'Metadata.Genres': 'Genres', 'Metrics.Review Score': 'Review_Score', 'Metrics.Sales': 'Sales'})\n",
    "df2 = df2[(df2[\"Genres\"] == \"Action\") | (df2[\"Genres\"] == \"Sports\") | (df2[\"Genres\"] == \"Adventure\") | (df2[\"Genres\"] == \"Role-Playing (RPG)\")]\n",
    "df2\n"
   ]
  },
  {
   "cell_type": "code",
   "execution_count": 174,
   "metadata": {},
   "outputs": [
    {
     "data": {
      "text/plain": [
       "497"
      ]
     },
     "execution_count": 174,
     "metadata": {},
     "output_type": "execute_result"
    }
   ],
   "source": [
    "df1.shape[0]-df2.shape[0]"
   ]
  },
  {
   "cell_type": "code",
   "execution_count": 175,
   "metadata": {},
   "outputs": [
    {
     "data": {
      "text/plain": [
       "Genres          0\n",
       "Review_Score    0\n",
       "Sales           0\n",
       "dtype: int64"
      ]
     },
     "execution_count": 175,
     "metadata": {},
     "output_type": "execute_result"
    }
   ],
   "source": [
    "df2.isna().sum()"
   ]
  },
  {
   "cell_type": "code",
   "execution_count": 173,
   "metadata": {},
   "outputs": [
    {
     "data": {
      "text/plain": [
       "Genres  Review_Score  Sales\n",
       "Action  72            0.24     2\n",
       "        47            0.07     2\n",
       "        53            0.35     2\n",
       "        71            0.15     2\n",
       "        68            0.16     2\n",
       "                              ..\n",
       "        70            0.14     1\n",
       "                      0.19     1\n",
       "                      0.22     1\n",
       "                      0.23     1\n",
       "Sports  88            0.48     1\n",
       "Name: count, Length: 682, dtype: int64"
      ]
     },
     "execution_count": 173,
     "metadata": {},
     "output_type": "execute_result"
    }
   ],
   "source": [
    "df2.value_counts()"
   ]
  },
  {
   "cell_type": "code",
   "execution_count": 136,
   "metadata": {},
   "outputs": [
    {
     "data": {
      "text/plain": [
       "array([1.000e-02, 2.000e-02, 3.000e-02, 4.000e-02, 5.000e-02, 6.000e-02,\n",
       "       7.000e-02, 8.000e-02, 9.000e-02, 1.000e-01, 1.100e-01, 1.200e-01,\n",
       "       1.300e-01, 1.400e-01, 1.500e-01, 1.600e-01, 1.700e-01, 1.800e-01,\n",
       "       1.900e-01, 2.000e-01, 2.100e-01, 2.200e-01, 2.300e-01, 2.400e-01,\n",
       "       2.500e-01, 2.600e-01, 2.700e-01, 2.800e-01, 2.900e-01, 3.000e-01,\n",
       "       3.100e-01, 3.200e-01, 3.300e-01, 3.400e-01, 3.500e-01, 3.600e-01,\n",
       "       3.700e-01, 3.800e-01, 3.900e-01, 4.000e-01, 4.100e-01, 4.200e-01,\n",
       "       4.300e-01, 4.400e-01, 4.500e-01, 4.600e-01, 4.700e-01, 4.800e-01,\n",
       "       4.900e-01, 5.000e-01, 5.100e-01, 5.200e-01, 5.300e-01, 5.400e-01,\n",
       "       5.500e-01, 5.600e-01, 5.700e-01, 5.800e-01, 5.900e-01, 6.000e-01,\n",
       "       6.100e-01, 6.200e-01, 6.400e-01, 6.500e-01, 6.600e-01, 6.700e-01,\n",
       "       6.800e-01, 6.900e-01, 7.000e-01, 7.300e-01, 7.400e-01, 7.500e-01,\n",
       "       7.600e-01, 7.700e-01, 8.000e-01, 8.100e-01, 8.200e-01, 8.300e-01,\n",
       "       8.400e-01, 8.500e-01, 8.600e-01, 8.700e-01, 8.900e-01, 9.100e-01,\n",
       "       9.200e-01, 9.300e-01, 9.400e-01, 9.500e-01, 9.600e-01, 9.800e-01,\n",
       "       1.000e+00, 1.010e+00, 1.020e+00, 1.030e+00, 1.060e+00, 1.070e+00,\n",
       "       1.080e+00, 1.090e+00, 1.100e+00, 1.110e+00, 1.120e+00, 1.130e+00,\n",
       "       1.150e+00, 1.160e+00, 1.170e+00, 1.190e+00, 1.200e+00, 1.220e+00,\n",
       "       1.240e+00, 1.260e+00, 1.320e+00, 1.360e+00, 1.420e+00, 1.450e+00,\n",
       "       1.460e+00, 1.470e+00, 1.490e+00, 1.510e+00, 1.520e+00, 1.540e+00,\n",
       "       1.590e+00, 1.600e+00, 1.610e+00, 1.640e+00, 1.660e+00, 1.690e+00,\n",
       "       1.760e+00, 1.770e+00, 1.840e+00, 1.910e+00, 1.920e+00, 2.040e+00,\n",
       "       2.320e+00, 2.330e+00, 2.380e+00, 2.390e+00, 2.420e+00, 2.460e+00,\n",
       "       2.530e+00, 2.550e+00, 2.580e+00, 2.910e+00, 3.030e+00, 3.170e+00,\n",
       "       3.200e+00, 3.650e+00, 3.700e+00, 3.900e+00, 4.580e+00, 4.690e+00,\n",
       "       4.940e+00, 5.070e+00, 5.710e+00, 5.770e+00, 6.770e+00, 8.030e+00,\n",
       "       1.003e+01])"
      ]
     },
     "execution_count": 136,
     "metadata": {},
     "output_type": "execute_result"
    }
   ],
   "source": [
    "np.unique(df2[\"Sales\"].values)"
   ]
  },
  {
   "cell_type": "code",
   "execution_count": 176,
   "metadata": {},
   "outputs": [
    {
     "data": {
      "text/plain": [
       "array(['Action', 'Adventure', 'Role-Playing (RPG)', 'Sports'],\n",
       "      dtype=object)"
      ]
     },
     "execution_count": 176,
     "metadata": {},
     "output_type": "execute_result"
    }
   ],
   "source": [
    "np.unique(df2[\"Genres\"].values)"
   ]
  },
  {
   "cell_type": "code",
   "execution_count": 178,
   "metadata": {},
   "outputs": [
    {
     "data": {
      "text/plain": [
       "array([19, 25, 27, 28, 30, 33, 34, 35, 37, 38, 39, 40, 41, 42, 43, 44, 45,\n",
       "       46, 47, 48, 49, 50, 51, 52, 53, 54, 55, 56, 57, 58, 59, 60, 61, 62,\n",
       "       63, 64, 65, 66, 67, 68, 69, 70, 71, 72, 73, 74, 75, 76, 77, 78, 79,\n",
       "       80, 81, 82, 83, 84, 85, 86, 87, 88, 89, 90, 91, 92, 93, 94, 95, 96,\n",
       "       97])"
      ]
     },
     "execution_count": 178,
     "metadata": {},
     "output_type": "execute_result"
    }
   ],
   "source": [
    "np.unique(df2[\"Review_Score\"].values)"
   ]
  },
  {
   "cell_type": "code",
   "execution_count": 179,
   "metadata": {},
   "outputs": [
    {
     "data": {
      "image/png": "[encoded data removed]",
      "text/plain": [
       "<Figure size 640x480 with 1 Axes>"
      ]
     },
     "metadata": {},
     "output_type": "display_data"
    }
   ],
   "source": [
    "sns.boxplot(x=df2['Review_Score'])\n",
    "plt.title('Review Scores')\n",
    "plt.show()"
   ]
  },
  {
   "cell_type": "code",
   "execution_count": 180,
   "metadata": {},
   "outputs": [
    {
     "data": {
      "image/png": "[encoded data removed]",
      "text/plain": [
       "<Figure size 640x480 with 1 Axes>"
      ]
     },
     "metadata": {},
     "output_type": "display_data"
    }
   ],
   "source": [
    "sns.boxplot(x=df2['Sales'])\n",
    "plt.title('Sales')\n",
    "plt.show()"
   ]
  },
  {
   "cell_type": "markdown",
   "metadata": {},
   "source": [
    "In this dataset there are not any implicit or explicit missing values. We can conclude this because after using the unique function from numpy there was no evidence of \"NaN\", \"none\", or other strings in the datasets.  The pros of removing any of these values if they were present is the avoidance of bias, maintaining sample representativeness, and the preservation of the datasets's integrity. The cons of removing these potential values could you may lose insights into rare events or extreme conditions that could be important. If outliers are not truly false data points but rather genuine observations of the this dateaset being studied, removing them can bias the results of statistical analyses, leading to inaccurate conclusions. I chose to not drop any outliers because I believe this would not accurately represent the dataset because there are no truly false data points. I didn't clean any data, however, I did limit the amount of genres for video games. I decided to keep the most common ones to mitigate this overlap. I decided to specifically keep action, adventure, Role-Playing (RPG), and Sports. While these aren't implicit or explicit missing values, 497 rows were dropped and the dataset was easier to work with. "
   ]
  },
  {
   "cell_type": "markdown",
   "metadata": {},
   "source": [
    "## 4. <u>Research Question</u>: How does the Relationship between `x` and `y` Change based on Different Values of `z` in the Dataset?"
   ]
  },
  {
   "cell_type": "markdown",
   "metadata": {},
   "source": []
  },
  {
   "cell_type": "code",
   "execution_count": 190,
   "metadata": {},
   "outputs": [
    {
     "data": {
      "text/plain": [
       "Text(0.5, 1.0, 'Sales vs Review Score Per Genre')"
      ]
     },
     "execution_count": 190,
     "metadata": {},
     "output_type": "execute_result"
    },
    {
     "data": {
      "image/png": "[encoded data removed]",
      "text/plain": [
       "<Figure size 899.375x600 with 1 Axes>"
      ]
     },
     "metadata": {},
     "output_type": "display_data"
    }
   ],
   "source": [
    "sns.lmplot( data = df2 , x = 'Sales' , y = 'Review_Score', hue = 'Genres' , height= 6 , aspect =1.2)\n",
    "plt.title(\"Sales vs Review Score Per Genre\")"
   ]
  },
  {
   "cell_type": "code",
   "execution_count": 168,
   "metadata": {},
   "outputs": [],
   "source": [
    "genres  = [ \"Genres\",\n",
    "           \"Sales\",\n",
    "           \"Review_Score\"]\n"
   ]
  },
  {
   "cell_type": "code",
   "execution_count": 195,
   "metadata": {},
   "outputs": [
    {
     "name": "stdout",
     "output_type": "stream",
     "text": [
      "Sales with Review Score and Genres: R^2 = 0.15481433875824746\n",
      "Sales with Review Score and Sales: R^2 = 1.0\n",
      "Sales with Review Score and Review_Score: R^2 = 0.13318722958845808\n"
     ]
    }
   ],
   "source": [
    "\n",
    "\n",
    "df2 = df1.rename(columns={'Metadata.Genres': 'Genres', 'Metrics.Review Score': 'Review_Score', 'Metrics.Sales': 'Sales'})\n",
    "df2 = df2[(df2[\"Genres\"] == \"Action\") | (df2[\"Genres\"] == \"Sports\") | (df2[\"Genres\"] == \"Adventure\") | (df2[\"Genres\"] == \"Role-Playing (RPG)\")]\n",
    "\n",
    "genres  = [ \"Genres\",\n",
    "           \"Sales\",\n",
    "           \"Review_Score\"  ] \n",
    "\n",
    "r_squared_values = {}\n",
    "\n",
    "for var in genres:\n",
    "    formula = f'Sales ~ Review_Score + {var}' \n",
    "    model = smf.ols(formula=formula, data=df2).fit()\n",
    "    r_squared_values[var] = model.rsquared\n",
    "\n",
    "for var, r_squared in r_squared_values.items():\n",
    "    print(f'Sales with Review Score and {var}: R^2 = {r_squared}')\n",
    "\n"
   ]
  },
  {
   "cell_type": "code",
   "execution_count": 194,
   "metadata": {},
   "outputs": [
    {
     "data": {
      "text/html": [
       "<div>\n",
       "<style scoped>\n",
       "    .dataframe tbody tr th:only-of-type {\n",
       "        vertical-align: middle;\n",
       "    }\n",
       "\n",
       "    .dataframe tbody tr th {\n",
       "        vertical-align: top;\n",
       "    }\n",
       "\n",
       "    .dataframe thead th {\n",
       "        text-align: right;\n",
       "    }\n",
       "</style>\n",
       "<table border=\"1\" class=\"dataframe\">\n",
       "  <thead>\n",
       "    <tr style=\"text-align: right;\">\n",
       "      <th></th>\n",
       "      <th></th>\n",
       "      <th>Review_Score</th>\n",
       "      <th>Sales</th>\n",
       "    </tr>\n",
       "    <tr>\n",
       "      <th>Genres</th>\n",
       "      <th></th>\n",
       "      <th></th>\n",
       "      <th></th>\n",
       "    </tr>\n",
       "  </thead>\n",
       "  <tbody>\n",
       "    <tr>\n",
       "      <th rowspan=\"2\" valign=\"top\">Action</th>\n",
       "      <th>Review_Score</th>\n",
       "      <td>1.000000</td>\n",
       "      <td>0.412171</td>\n",
       "    </tr>\n",
       "    <tr>\n",
       "      <th>Sales</th>\n",
       "      <td>0.412171</td>\n",
       "      <td>1.000000</td>\n",
       "    </tr>\n",
       "    <tr>\n",
       "      <th rowspan=\"2\" valign=\"top\">Adventure</th>\n",
       "      <th>Review_Score</th>\n",
       "      <td>1.000000</td>\n",
       "      <td>0.228729</td>\n",
       "    </tr>\n",
       "    <tr>\n",
       "      <th>Sales</th>\n",
       "      <td>0.228729</td>\n",
       "      <td>1.000000</td>\n",
       "    </tr>\n",
       "    <tr>\n",
       "      <th rowspan=\"2\" valign=\"top\">Role-Playing (RPG)</th>\n",
       "      <th>Review_Score</th>\n",
       "      <td>1.000000</td>\n",
       "      <td>0.352899</td>\n",
       "    </tr>\n",
       "    <tr>\n",
       "      <th>Sales</th>\n",
       "      <td>0.352899</td>\n",
       "      <td>1.000000</td>\n",
       "    </tr>\n",
       "    <tr>\n",
       "      <th rowspan=\"2\" valign=\"top\">Sports</th>\n",
       "      <th>Review_Score</th>\n",
       "      <td>1.000000</td>\n",
       "      <td>0.293519</td>\n",
       "    </tr>\n",
       "    <tr>\n",
       "      <th>Sales</th>\n",
       "      <td>0.293519</td>\n",
       "      <td>1.000000</td>\n",
       "    </tr>\n",
       "  </tbody>\n",
       "</table>\n",
       "</div>"
      ],
      "text/plain": [
       "                                 Review_Score     Sales\n",
       "Genres                                                 \n",
       "Action             Review_Score      1.000000  0.412171\n",
       "                   Sales             0.412171  1.000000\n",
       "Adventure          Review_Score      1.000000  0.228729\n",
       "                   Sales             0.228729  1.000000\n",
       "Role-Playing (RPG) Review_Score      1.000000  0.352899\n",
       "                   Sales             0.352899  1.000000\n",
       "Sports             Review_Score      1.000000  0.293519\n",
       "                   Sales             0.293519  1.000000"
      ]
     },
     "execution_count": 194,
     "metadata": {},
     "output_type": "execute_result"
    }
   ],
   "source": [
    "genrecorr = df2.groupby(\"Genres\").corr()\n",
    "genrecorr"
   ]
  },
  {
   "cell_type": "markdown",
   "metadata": {},
   "source": [
    "There is not a strong correlation between sales, review score, and genre. I thought there would be a stronger correlation. With specific genres it was intersting to see how the R^2 values were different. For action video games, the Sales and Review Score had the strongest correlation. After this project we can see that coefficient for each Genre is positive. But for action, the coefficient for \"Review Score\" is larger in absolute compared to others, it suggests that the effect of Review Score on Sales is stronger for this particular genre. There weren't any direction changes, shape changes, and the strength of the relationship for Action, review score, and sales have a stronger association than the other genres. While adventure does have shortest trend line, it is the steepest the than rest of the genres. "
   ]
  },
  {
   "cell_type": "markdown",
   "metadata": {},
   "source": [
    "## 5. Conclusion"
   ]
  },
  {
   "cell_type": "markdown",
   "metadata": {},
   "source": [
    "By examining the coefficients associated with each genre, we can identify how the relationship between sales and review scores varies across different genres. This analysis provides insights into which genres are more sensitive to changes in review scores and which ones are less affected.After the project we can see that the relationship between sales and review scores remains positive as genres change. For the genres I selected Action has the highest correlation coefficient and for every one-unit increase in the review score, sales increase by approximately 0.412 units. The genre affected the least by this was Adventure, but the relationship is weakly positive. One major shortcoming is I did not consider all genres in the dataset. This would have made the dataset more accurate because there are some crossover genres and my sample might not accurately portray this. For future work, companies can go more in depth into this dataset and see what games they could make to see if they can increase revenue. "
   ]
  },
  {
   "cell_type": "markdown",
   "metadata": {},
   "source": []
  }
 ],
 "metadata": {
  "kernelspec": {
   "display_name": "Python 3 (ipykernel)",
   "language": "python",
   "name": "python3"
  },
  "language_info": {
   "codemirror_mode": {
    "name": "ipython",
    "version": 3
   },
   "file_extension": ".py",
   "mimetype": "text/x-python",
   "name": "python",
   "nbconvert_exporter": "python",
   "pygments_lexer": "ipython3",
   "version": "3.9.6"
  }
 },
 "nbformat": 4,
 "nbformat_minor": 4
}
